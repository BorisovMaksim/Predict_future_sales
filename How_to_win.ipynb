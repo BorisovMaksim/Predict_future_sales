{
 "cells": [
  {
   "cell_type": "code",
   "execution_count": 4,
   "id": "bridal-publisher",
   "metadata": {},
   "outputs": [],
   "source": [
    "import numpy as np \n",
    "import pandas as pd \n",
    "from matplotlib import pyplot as plt\n",
    "import os\n",
    "import seaborn as sns\n",
    "from itertools import product\n",
    "from lightgbm import LGBMRegressor\n",
    "from xgboost import XGBRegressor\n",
    "from sklearn.ensemble import RandomForestRegressor\n",
    "from catboost import CatBoostRegressor\n",
    "\n",
    "\n",
    "\n",
    "def save_for_submission(array, name):\n",
    "    temp_subm = sample_submussion.copy()\n",
    "    temp_subm['item_cnt_month'] = array\n",
    "    temp_subm.to_csv(name, index=False)\n",
    "    \n",
    "    \n",
    "def rmse(X, y):\n",
    "    return np.sqrt(np.mean((X - y) ** 2))\n",
    "    \n",
    "\n",
    "sample_submussion = pd.read_csv(\"/home/maksim/ml/Predict future sales/Submissions/sample_submission.csv\")"
   ]
  },
  {
   "cell_type": "markdown",
   "id": "unavailable-renaissance",
   "metadata": {},
   "source": [
    "# Read the Data"
   ]
  },
  {
   "cell_type": "code",
   "execution_count": 3,
   "id": "turned-implementation",
   "metadata": {},
   "outputs": [],
   "source": [
    "items = pd.read_csv(\"/home/maksim/ml/Predict future sales/items.csv\")\n",
    "shops = pd.read_csv(\"/home/maksim/ml/Predict future sales/shops.csv\")\n",
    "test = pd.read_csv(\"/home/maksim/ml/Predict future sales/test.csv\")\n",
    "sales_train = pd.read_csv(\"/home/maksim/ml/Predict future sales/sales_train.csv\")\n",
    "item_categories = pd.read_csv(\"/home/maksim/ml/Predict future sales/item_categories.csv\")"
   ]
  },
  {
   "cell_type": "markdown",
   "id": "ruled-stewart",
   "metadata": {},
   "source": [
    "# Data overview"
   ]
  },
  {
   "cell_type": "code",
   "execution_count": 4,
   "id": "systematic-exploration",
   "metadata": {},
   "outputs": [
    {
     "name": "stdout",
     "output_type": "stream",
     "text": [
      "Train shape  (2935849, 6)\n",
      "Test shape  (214200, 3)\n"
     ]
    }
   ],
   "source": [
    "print(\"Train shape \", sales_train.shape)\n",
    "print(\"Test shape \", test.shape)"
   ]
  },
  {
   "cell_type": "code",
   "execution_count": 5,
   "id": "harmful-sudan",
   "metadata": {},
   "outputs": [
    {
     "data": {
      "text/html": [
       "<div>\n",
       "<style scoped>\n",
       "    .dataframe tbody tr th:only-of-type {\n",
       "        vertical-align: middle;\n",
       "    }\n",
       "\n",
       "    .dataframe tbody tr th {\n",
       "        vertical-align: top;\n",
       "    }\n",
       "\n",
       "    .dataframe thead th {\n",
       "        text-align: right;\n",
       "    }\n",
       "</style>\n",
       "<table border=\"1\" class=\"dataframe\">\n",
       "  <thead>\n",
       "    <tr style=\"text-align: right;\">\n",
       "      <th></th>\n",
       "      <th>date</th>\n",
       "      <th>date_block_num</th>\n",
       "      <th>shop_id</th>\n",
       "      <th>item_id</th>\n",
       "      <th>item_price</th>\n",
       "      <th>item_cnt_day</th>\n",
       "    </tr>\n",
       "  </thead>\n",
       "  <tbody>\n",
       "    <tr>\n",
       "      <th>0</th>\n",
       "      <td>02.01.2013</td>\n",
       "      <td>0</td>\n",
       "      <td>59</td>\n",
       "      <td>22154</td>\n",
       "      <td>999.00</td>\n",
       "      <td>1.0</td>\n",
       "    </tr>\n",
       "    <tr>\n",
       "      <th>1</th>\n",
       "      <td>03.01.2013</td>\n",
       "      <td>0</td>\n",
       "      <td>25</td>\n",
       "      <td>2552</td>\n",
       "      <td>899.00</td>\n",
       "      <td>1.0</td>\n",
       "    </tr>\n",
       "    <tr>\n",
       "      <th>2</th>\n",
       "      <td>05.01.2013</td>\n",
       "      <td>0</td>\n",
       "      <td>25</td>\n",
       "      <td>2552</td>\n",
       "      <td>899.00</td>\n",
       "      <td>-1.0</td>\n",
       "    </tr>\n",
       "    <tr>\n",
       "      <th>3</th>\n",
       "      <td>06.01.2013</td>\n",
       "      <td>0</td>\n",
       "      <td>25</td>\n",
       "      <td>2554</td>\n",
       "      <td>1709.05</td>\n",
       "      <td>1.0</td>\n",
       "    </tr>\n",
       "    <tr>\n",
       "      <th>4</th>\n",
       "      <td>15.01.2013</td>\n",
       "      <td>0</td>\n",
       "      <td>25</td>\n",
       "      <td>2555</td>\n",
       "      <td>1099.00</td>\n",
       "      <td>1.0</td>\n",
       "    </tr>\n",
       "  </tbody>\n",
       "</table>\n",
       "</div>"
      ],
      "text/plain": [
       "         date  date_block_num  shop_id  item_id  item_price  item_cnt_day\n",
       "0  02.01.2013               0       59    22154      999.00           1.0\n",
       "1  03.01.2013               0       25     2552      899.00           1.0\n",
       "2  05.01.2013               0       25     2552      899.00          -1.0\n",
       "3  06.01.2013               0       25     2554     1709.05           1.0\n",
       "4  15.01.2013               0       25     2555     1099.00           1.0"
      ]
     },
     "execution_count": 5,
     "metadata": {},
     "output_type": "execute_result"
    }
   ],
   "source": [
    "sales_train.head()"
   ]
  },
  {
   "cell_type": "code",
   "execution_count": 6,
   "id": "optional-nicaragua",
   "metadata": {},
   "outputs": [
    {
     "data": {
      "text/html": [
       "<div>\n",
       "<style scoped>\n",
       "    .dataframe tbody tr th:only-of-type {\n",
       "        vertical-align: middle;\n",
       "    }\n",
       "\n",
       "    .dataframe tbody tr th {\n",
       "        vertical-align: top;\n",
       "    }\n",
       "\n",
       "    .dataframe thead th {\n",
       "        text-align: right;\n",
       "    }\n",
       "</style>\n",
       "<table border=\"1\" class=\"dataframe\">\n",
       "  <thead>\n",
       "    <tr style=\"text-align: right;\">\n",
       "      <th></th>\n",
       "      <th>ID</th>\n",
       "      <th>shop_id</th>\n",
       "      <th>item_id</th>\n",
       "    </tr>\n",
       "  </thead>\n",
       "  <tbody>\n",
       "    <tr>\n",
       "      <th>0</th>\n",
       "      <td>0</td>\n",
       "      <td>5</td>\n",
       "      <td>5037</td>\n",
       "    </tr>\n",
       "    <tr>\n",
       "      <th>1</th>\n",
       "      <td>1</td>\n",
       "      <td>5</td>\n",
       "      <td>5320</td>\n",
       "    </tr>\n",
       "    <tr>\n",
       "      <th>2</th>\n",
       "      <td>2</td>\n",
       "      <td>5</td>\n",
       "      <td>5233</td>\n",
       "    </tr>\n",
       "    <tr>\n",
       "      <th>3</th>\n",
       "      <td>3</td>\n",
       "      <td>5</td>\n",
       "      <td>5232</td>\n",
       "    </tr>\n",
       "    <tr>\n",
       "      <th>4</th>\n",
       "      <td>4</td>\n",
       "      <td>5</td>\n",
       "      <td>5268</td>\n",
       "    </tr>\n",
       "  </tbody>\n",
       "</table>\n",
       "</div>"
      ],
      "text/plain": [
       "   ID  shop_id  item_id\n",
       "0   0        5     5037\n",
       "1   1        5     5320\n",
       "2   2        5     5233\n",
       "3   3        5     5232\n",
       "4   4        5     5268"
      ]
     },
     "execution_count": 6,
     "metadata": {},
     "output_type": "execute_result"
    }
   ],
   "source": [
    "test.head()"
   ]
  },
  {
   "cell_type": "code",
   "execution_count": 7,
   "id": "verbal-apartment",
   "metadata": {},
   "outputs": [
    {
     "name": "stdout",
     "output_type": "stream",
     "text": [
      "Number of nulls in sales_train = 0\n",
      "Number of duplicates in sales_train = 6\n"
     ]
    }
   ],
   "source": [
    "print(\"Number of nulls in sales_train = {}\".format(np.sum(sales_train.isnull().sum())))\n",
    "print(\"Number of duplicates in sales_train = {}\".format(len(sales_train[sales_train.duplicated()])))"
   ]
  },
  {
   "cell_type": "code",
   "execution_count": 8,
   "id": "jewish-penalty",
   "metadata": {},
   "outputs": [
    {
     "data": {
      "image/png": "[encoded data removed]",
      "text/plain": [
       "<Figure size 432x288 with 1 Axes>"
      ]
     },
     "metadata": {
      "needs_background": "light"
     },
     "output_type": "display_data"
    }
   ],
   "source": [
    "sns.boxplot(data=sales_train)\n",
    "plt.show()"
   ]
  },
  {
   "cell_type": "code",
   "execution_count": 9,
   "id": "fabulous-superior",
   "metadata": {},
   "outputs": [
    {
     "data": {
      "image/png": "[encoded data removed]",
      "text/plain": [
       "<Figure size 432x288 with 2 Axes>"
      ]
     },
     "metadata": {
      "needs_background": "light"
     },
     "output_type": "display_data"
    }
   ],
   "source": [
    "sns.heatmap(sales_train.corr())\n",
    "plt.show()"
   ]
  },
  {
   "cell_type": "markdown",
   "id": "still-paraguay",
   "metadata": {},
   "source": [
    "# Dataset Creation"
   ]
  },
  {
   "cell_type": "code",
   "execution_count": 10,
   "id": "german-shock",
   "metadata": {},
   "outputs": [],
   "source": [
    "grid = []\n",
    "for month in sales_train.date_block_num.unique():\n",
    "    sales_train_month = sales_train[sales_train.date_block_num == month]\n",
    "    shops_month = sales_train_month.shop_id.unique()\n",
    "    items_month = sales_train_month.item_id.unique()\n",
    "    grid.append(np.array(list(product(shops_month, items_month, [month])), dtype='int32'))\n",
    "index_cols = ['shop_id', 'item_id', 'date_block_num']\n",
    "grid = pd.DataFrame(np.vstack(grid), columns = index_cols)"
   ]
  },
  {
   "cell_type": "code",
   "execution_count": 11,
   "id": "suited-royal",
   "metadata": {},
   "outputs": [],
   "source": [
    "sales_train['item_cnt_day'] = sales_train['item_cnt_day'].clip(0,20)"
   ]
  },
  {
   "cell_type": "code",
   "execution_count": 12,
   "id": "entertaining-radar",
   "metadata": {},
   "outputs": [],
   "source": [
    "groups = sales_train.groupby(index_cols)\n",
    "trainset = groups.agg({'item_price': 'mean','item_cnt_day': 'sum'}).reset_index()\n",
    "trainset.rename(columns = {'item_cnt_day' : 'item_cnt_month'}, inplace=True)"
   ]
  },
  {
   "cell_type": "code",
   "execution_count": 13,
   "id": "subsequent-system",
   "metadata": {},
   "outputs": [],
   "source": [
    "trainset['item_cnt_month'] = trainset['item_cnt_month'].clip(0,20)\n",
    "trainset = pd.merge(grid, trainset, how='left', on=index_cols)\n",
    "trainset.item_cnt_month = trainset.item_cnt_month.fillna(0)\n",
    "trainset = pd.merge(trainset,items[['item_id','item_category_id']], on='item_id')"
   ]
  },
  {
   "cell_type": "code",
   "execution_count": 14,
   "id": "married-patient",
   "metadata": {},
   "outputs": [],
   "source": [
    "month_data = sales_train.groupby(['item_id','date_block_num'])['item_price'].agg('mean').reset_index()\n",
    "merged_data = pd.merge(trainset, month_data, how='left', on=['item_id','date_block_num'])\n",
    "trainset.item_price = merged_data.item_price_x.fillna(merged_data.item_price_y)"
   ]
  },
  {
   "cell_type": "code",
   "execution_count": 127,
   "id": "disturbed-hurricane",
   "metadata": {},
   "outputs": [],
   "source": [
    "test_mod = test.copy()\n",
    "test_mod['date_block_num'] = [34 for _ in range(len(test_mod))]\n",
    "test_mod = pd.merge(test_mod, items[['item_id','item_category_id']], on='item_id')\n",
    "test_mod = pd.merge(test_mod, month_data.drop_duplicates('item_id', keep='last'), how='left', on='item_id')\n",
    "test_mod = test_mod.drop('date_block_num_y', axis = 1).fillna(test_mod.item_price.mean())\n",
    "test_mod = test_mod.rename(columns={'date_block_num_x': 'date_block_num'})\n",
    "test_mod = test_mod.sort_values(by='ID').reset_index(drop=True)"
   ]
  },
  {
   "cell_type": "code",
   "execution_count": 129,
   "id": "applied-korean",
   "metadata": {},
   "outputs": [],
   "source": [
    "df = trainset.append(test_mod)\n",
    "df.to_pickle(\"/home/maksim/ml/Predict future sales/Pickle_files/how_to_win_1.pkl\")"
   ]
  },
  {
   "cell_type": "markdown",
   "id": "alive-radar",
   "metadata": {},
   "source": [
    "# Feature generation"
   ]
  },
  {
   "cell_type": "code",
   "execution_count": 5,
   "id": "permanent-caribbean",
   "metadata": {},
   "outputs": [],
   "source": [
    "X_train =  pd.read_pickle(\"/home/maksim/ml/Predict future sales/Pickle_files/X_train.pkl\")\n",
    "X_val =  pd.read_pickle(\"/home/maksim/ml/Predict future sales/Pickle_files/X_val.pkl\")\n",
    "y_train = pd.read_pickle(\"/home/maksim/ml/Predict future sales/Pickle_files/y_train.pkl\")"
   ]
  },
  {
   "cell_type": "code",
   "execution_count": 6,
   "id": "written-california",
   "metadata": {},
   "outputs": [],
   "source": [
    "def get_expanding_mean(col, X_train, X_val):\n",
    "    groups = X_train.groupby(col)\n",
    "    cumsum = groups.item_cnt_month.cumsum() - y_train\n",
    "    cumcnt = groups.cumcount()\n",
    "    X_train['expanding_mean_target_group_' + col] = (cumsum / cumcnt).fillna(0)\n",
    "    X_val['expanding_mean_target_group_' + col] = X_val[col].map(groups['expanding_mean_target_group_' + col].agg('last')).fillna(0)\n",
    "    return X_train, X_val\n",
    "\n",
    "\n",
    "def get_all_expanding_mean(X_train, X_val):\n",
    "    for col in ['item_id', 'shop_id', 'item_category_id']:\n",
    "        X_train, X_val = get_expanding_mean(col, X_train, X_val)\n",
    "    return X_train, X_val \n",
    "\n",
    "\n",
    "def get_lag_count(X_train, X_val):\n",
    "    lag_count = X_train[X_train.date_block_num == 0].item_cnt_month.values\n",
    "    X_group_item_month = X_train.groupby(['item_id','date_block_num']).item_cnt_month.mean().reset_index()\n",
    "    for i in range(1, max(X_train.date_block_num) + 1):\n",
    "        lag_count = np.append(lag_count, pd.merge(X_train[X_train.date_block_num == i], X_group_item_month[X_group_item_month.date_block_num == i-1],\n",
    "                                 how='left', on=['item_id']).item_cnt_month_y.fillna(0).values)\n",
    "    X_train['lag_item_cnt_month'] = lag_count\n",
    "    X_val['lag_item_cnt_month'] = pd.merge(X_val, X_group_item_month[X_group_item_month.date_block_num == max(X_val.date_block_num) - 1],\n",
    "                                 how='left', on=['item_id']).item_cnt_month_y.fillna(0).values\n",
    "    return X_train, X_val\n",
    "\n",
    "def get_shop_features(X_train, X_val):\n",
    "    data_per_shop = X_train.groupby(['shop_id', 'date_block_num']).agg({\"item_id\":np.size, \"item_price\": np.mean }).reset_index()\n",
    "    data_per_shop.columns = ['shop_id', 'date_block_num', 'amount_items_sold_in_shop_this_month', 'mean_price_in_shop_this_month']\n",
    "    X_train = pd.merge(X_train, data_per_shop, how='left', on=['shop_id', 'date_block_num'])\n",
    "    \n",
    "    val_data_per_shop = X_val.groupby(['shop_id', 'date_block_num']).agg({\"item_id\":np.size, \"item_price\": np.mean }).reset_index()\n",
    "    val_data_per_shop.columns = ['shop_id', 'date_block_num', 'amount_items_sold_in_shop_this_month', 'mean_price_in_shop_this_month']\n",
    "    X_val = pd.merge(X_val , val_data_per_shop, how='left', on=['shop_id', 'date_block_num'])\n",
    "    \n",
    "    return X_train, X_val\n",
    "\n",
    "def get_month_features(X_train, X_val):\n",
    "    data_per_month = X_train.groupby('date_block_num').agg({\"item_id\":np.size, \"item_price\": np.mean }).reset_index()\n",
    "    data_per_month.columns = ['date_block_num', 'amount_items_sold_this_month', 'mean_price_this_month']\n",
    "    X_train = pd.merge(X_train, data_per_month, how='left', on='date_block_num')\n",
    "    \n",
    "    val_data_per_month = X_val.groupby('date_block_num').agg({\"item_id\":np.size, \"item_price\": np.mean }).reset_index()\n",
    "    val_data_per_month.columns =  ['date_block_num', 'amount_items_sold_this_month', 'mean_price_this_month']\n",
    "    X_val = pd.merge(X_val , val_data_per_month, how='left', on='date_block_num')\n",
    "    \n",
    "    return X_train, X_val\n",
    "\n",
    "\n",
    "def get_features_6_month(X_train, X_val):\n",
    "    item_cnt_6_month = X_train[X_train.date_block_num.isin(range(28,max(X_train.date_block_num) + 1))].groupby(['item_id'])['item_cnt_month'].agg('mean').rename('item_cnt_6_month')\n",
    "    X_train = pd.merge(X_train, item_cnt_6_month, how='left', on='item_id').fillna(0)\n",
    "    X_val = pd.merge(X_val, item_cnt_6_month, how='left', on='item_id').fillna(0)\n",
    "    X_train['is_active_item'] = (X_train.item_cnt_6_month != 0).astype(float)\n",
    "    X_val = pd.merge(X_val, X_train[['item_id', 'is_active_item']].groupby('item_id')['is_active_item'].agg('last'), how='left', on='item_id').fillna(0)\n",
    "    \n",
    "    shop_cnt_6_month = X_train[X_train.date_block_num.isin(range(28,max(X_train.date_block_num) + 1))].groupby(['shop_id'])['item_cnt_month'].agg('mean').rename('shop_cnt_6_month')\n",
    "    X_train = pd.merge(X_train, shop_cnt_6_month, how='left', on='shop_id').fillna(0)\n",
    "    X_val = pd.merge(X_val, shop_cnt_6_month, how='left', on='shop_id').fillna(0)\n",
    "    X_train['is_active_shop'] = (X_train.shop_cnt_6_month != 0).astype(float)\n",
    "    X_val = pd.merge(X_val, X_train[['shop_id', 'is_active_shop']].groupby('shop_id')['is_active_shop'].agg('last'), how='left', on='shop_id').fillna(0)\n",
    "    \n",
    "    return X_train, X_val\n",
    "\n",
    "def get_features(X_train, X_val, fun_list):\n",
    "    for fun in fun_list:\n",
    "        X_train, X_val = fun(X_train, X_val)\n",
    "    return X_train, X_val"
   ]
  },
  {
   "cell_type": "code",
   "execution_count": 7,
   "id": "amazing-privacy",
   "metadata": {},
   "outputs": [],
   "source": [
    "fun_list = [get_all_expanding_mean, get_lag_count, get_shop_features, get_month_features, get_features_6_month]\n",
    "X_train, X_val = get_features(X_train, X_val, fun_list)"
   ]
  },
  {
   "cell_type": "code",
   "execution_count": 20,
   "id": "premier-defeat",
   "metadata": {},
   "outputs": [
    {
     "name": "stdout",
     "output_type": "stream",
     "text": [
      "[LightGBM] [Debug] Dataset::GetMultiBinFromAllFeatures: sparse rate 0.076825\n",
      "[LightGBM] [Debug] init for col-wise cost 0.000107 seconds, init for row-wise cost 0.493238 seconds\n",
      "[LightGBM] [Warning] Auto-choosing row-wise multi-threading, the overhead of testing was 0.123113 seconds.\n",
      "You can set `force_row_wise=true` to remove the overhead.\n",
      "And if memory is not enough, you can set `force_col_wise=true`.\n",
      "[LightGBM] [Debug] Using Dense Multi-Val Bin\n",
      "[LightGBM] [Info] Total Bins 2362\n",
      "[LightGBM] [Info] Number of data points in the train set: 10675678, number of used features: 17\n",
      "[LightGBM] [Info] Start training from score 0.299710\n",
      "[LightGBM] [Debug] Trained a tree with leaves = 800 and max_depth = 10\n",
      "[LightGBM] [Debug] Trained a tree with leaves = 800 and max_depth = 10\n",
      "[LightGBM] [Debug] Trained a tree with leaves = 800 and max_depth = 10\n",
      "[LightGBM] [Debug] Trained a tree with leaves = 800 and max_depth = 10\n",
      "[LightGBM] [Debug] Trained a tree with leaves = 800 and max_depth = 10\n",
      "[LightGBM] [Debug] Trained a tree with leaves = 800 and max_depth = 10\n",
      "[LightGBM] [Debug] Trained a tree with leaves = 800 and max_depth = 10\n",
      "[LightGBM] [Debug] Trained a tree with leaves = 800 and max_depth = 10\n",
      "[LightGBM] [Debug] Trained a tree with leaves = 800 and max_depth = 10\n",
      "[LightGBM] [Debug] Trained a tree with leaves = 800 and max_depth = 10\n",
      "[LightGBM] [Warning] No further splits with positive gain, best gain: -inf\n",
      "[LightGBM] [Debug] Trained a tree with leaves = 795 and max_depth = 10\n",
      "[LightGBM] [Debug] Trained a tree with leaves = 800 and max_depth = 10\n",
      "[LightGBM] [Warning] No further splits with positive gain, best gain: -inf\n",
      "[LightGBM] [Debug] Trained a tree with leaves = 792 and max_depth = 10\n",
      "[LightGBM] [Debug] Trained a tree with leaves = 800 and max_depth = 10\n",
      "[LightGBM] [Debug] Trained a tree with leaves = 800 and max_depth = 10\n",
      "[LightGBM] [Debug] Trained a tree with leaves = 800 and max_depth = 10\n",
      "[LightGBM] [Warning] No further splits with positive gain, best gain: -inf\n",
      "[LightGBM] [Debug] Trained a tree with leaves = 797 and max_depth = 10\n",
      "[LightGBM] [Warning] No further splits with positive gain, best gain: -inf\n",
      "[LightGBM] [Debug] Trained a tree with leaves = 771 and max_depth = 10\n",
      "[LightGBM] [Debug] Trained a tree with leaves = 800 and max_depth = 10\n",
      "[LightGBM] [Debug] Trained a tree with leaves = 800 and max_depth = 10\n",
      "[LightGBM] [Warning] No further splits with positive gain, best gain: -inf\n",
      "[LightGBM] [Debug] Trained a tree with leaves = 725 and max_depth = 10\n",
      "[LightGBM] [Debug] Trained a tree with leaves = 800 and max_depth = 10\n",
      "[LightGBM] [Warning] No further splits with positive gain, best gain: -inf\n",
      "[LightGBM] [Debug] Trained a tree with leaves = 781 and max_depth = 10\n",
      "[LightGBM] [Debug] Trained a tree with leaves = 800 and max_depth = 10\n",
      "[LightGBM] [Debug] Trained a tree with leaves = 800 and max_depth = 10\n",
      "[LightGBM] [Debug] Trained a tree with leaves = 800 and max_depth = 10\n",
      "[LightGBM] [Debug] Trained a tree with leaves = 800 and max_depth = 10\n",
      "[LightGBM] [Warning] No further splits with positive gain, best gain: -inf\n",
      "[LightGBM] [Debug] Trained a tree with leaves = 795 and max_depth = 10\n",
      "[LightGBM] [Warning] No further splits with positive gain, best gain: -inf\n",
      "[LightGBM] [Debug] Trained a tree with leaves = 793 and max_depth = 10\n",
      "[LightGBM] [Debug] Trained a tree with leaves = 800 and max_depth = 10\n",
      "[LightGBM] [Debug] Trained a tree with leaves = 800 and max_depth = 10\n",
      "[LightGBM] [Warning] No further splits with positive gain, best gain: -inf\n",
      "[LightGBM] [Debug] Trained a tree with leaves = 690 and max_depth = 10\n",
      "[LightGBM] [Warning] No further splits with positive gain, best gain: -inf\n",
      "[LightGBM] [Debug] Trained a tree with leaves = 783 and max_depth = 10\n",
      "[LightGBM] [Warning] No further splits with positive gain, best gain: -inf\n",
      "[LightGBM] [Debug] Trained a tree with leaves = 697 and max_depth = 10\n",
      "[LightGBM] [Warning] No further splits with positive gain, best gain: -inf\n",
      "[LightGBM] [Debug] Trained a tree with leaves = 694 and max_depth = 10\n",
      "[LightGBM] [Warning] No further splits with positive gain, best gain: -inf\n",
      "[LightGBM] [Debug] Trained a tree with leaves = 637 and max_depth = 10\n",
      "[LightGBM] [Warning] No further splits with positive gain, best gain: -inf\n",
      "[LightGBM] [Debug] Trained a tree with leaves = 787 and max_depth = 10\n",
      "[LightGBM] [Warning] No further splits with positive gain, best gain: -inf\n",
      "[LightGBM] [Debug] Trained a tree with leaves = 656 and max_depth = 10\n",
      "[LightGBM] [Warning] No further splits with positive gain, best gain: -inf\n",
      "[LightGBM] [Debug] Trained a tree with leaves = 736 and max_depth = 10\n",
      "[LightGBM] [Warning] No further splits with positive gain, best gain: -inf\n",
      "[LightGBM] [Debug] Trained a tree with leaves = 680 and max_depth = 10\n",
      "[LightGBM] [Warning] No further splits with positive gain, best gain: -inf\n",
      "[LightGBM] [Debug] Trained a tree with leaves = 749 and max_depth = 10\n",
      "[LightGBM] [Warning] No further splits with positive gain, best gain: -inf\n",
      "[LightGBM] [Debug] Trained a tree with leaves = 663 and max_depth = 10\n",
      "[LightGBM] [Warning] No further splits with positive gain, best gain: -inf\n",
      "[LightGBM] [Debug] Trained a tree with leaves = 753 and max_depth = 10\n",
      "[LightGBM] [Debug] Trained a tree with leaves = 800 and max_depth = 10\n",
      "[LightGBM] [Warning] No further splits with positive gain, best gain: -inf\n",
      "[LightGBM] [Debug] Trained a tree with leaves = 662 and max_depth = 10\n",
      "[LightGBM] [Warning] No further splits with positive gain, best gain: -inf\n",
      "[LightGBM] [Debug] Trained a tree with leaves = 700 and max_depth = 10\n",
      "[LightGBM] [Warning] No further splits with positive gain, best gain: -inf\n",
      "[LightGBM] [Debug] Trained a tree with leaves = 583 and max_depth = 10\n",
      "[LightGBM] [Warning] No further splits with positive gain, best gain: -inf\n",
      "[LightGBM] [Debug] Trained a tree with leaves = 699 and max_depth = 10\n",
      "[LightGBM] [Warning] No further splits with positive gain, best gain: -inf\n",
      "[LightGBM] [Debug] Trained a tree with leaves = 706 and max_depth = 10\n",
      "[LightGBM] [Warning] No further splits with positive gain, best gain: -inf\n",
      "[LightGBM] [Debug] Trained a tree with leaves = 706 and max_depth = 10\n",
      "[LightGBM] [Warning] No further splits with positive gain, best gain: -inf\n",
      "[LightGBM] [Debug] Trained a tree with leaves = 667 and max_depth = 10\n",
      "[LightGBM] [Warning] No further splits with positive gain, best gain: -inf\n",
      "[LightGBM] [Debug] Trained a tree with leaves = 564 and max_depth = 10\n",
      "[LightGBM] [Warning] No further splits with positive gain, best gain: -inf\n",
      "[LightGBM] [Debug] Trained a tree with leaves = 564 and max_depth = 10\n",
      "[LightGBM] [Warning] No further splits with positive gain, best gain: -inf\n",
      "[LightGBM] [Debug] Trained a tree with leaves = 675 and max_depth = 10\n",
      "[LightGBM] [Warning] No further splits with positive gain, best gain: -inf\n",
      "[LightGBM] [Debug] Trained a tree with leaves = 558 and max_depth = 10\n",
      "[LightGBM] [Warning] No further splits with positive gain, best gain: -inf\n",
      "[LightGBM] [Debug] Trained a tree with leaves = 579 and max_depth = 10\n",
      "[LightGBM] [Warning] No further splits with positive gain, best gain: -inf\n",
      "[LightGBM] [Debug] Trained a tree with leaves = 459 and max_depth = 10\n",
      "[LightGBM] [Warning] No further splits with positive gain, best gain: -inf\n",
      "[LightGBM] [Debug] Trained a tree with leaves = 668 and max_depth = 10\n",
      "[LightGBM] [Warning] No further splits with positive gain, best gain: -inf\n",
      "[LightGBM] [Debug] Trained a tree with leaves = 448 and max_depth = 10\n",
      "[LightGBM] [Debug] Trained a tree with leaves = 800 and max_depth = 10\n",
      "[LightGBM] [Warning] No further splits with positive gain, best gain: -inf\n",
      "[LightGBM] [Debug] Trained a tree with leaves = 798 and max_depth = 10\n",
      "[LightGBM] [Warning] No further splits with positive gain, best gain: -inf\n",
      "[LightGBM] [Debug] Trained a tree with leaves = 564 and max_depth = 10\n",
      "[LightGBM] [Warning] No further splits with positive gain, best gain: -inf\n",
      "[LightGBM] [Debug] Trained a tree with leaves = 560 and max_depth = 10\n",
      "[LightGBM] [Warning] No further splits with positive gain, best gain: -inf\n",
      "[LightGBM] [Debug] Trained a tree with leaves = 726 and max_depth = 10\n",
      "[LightGBM] [Warning] No further splits with positive gain, best gain: -inf\n",
      "[LightGBM] [Debug] Trained a tree with leaves = 567 and max_depth = 10\n",
      "[LightGBM] [Warning] No further splits with positive gain, best gain: -inf\n",
      "[LightGBM] [Debug] Trained a tree with leaves = 632 and max_depth = 10\n",
      "[LightGBM] [Warning] No further splits with positive gain, best gain: -inf\n",
      "[LightGBM] [Debug] Trained a tree with leaves = 669 and max_depth = 10\n",
      "[LightGBM] [Warning] No further splits with positive gain, best gain: -inf\n",
      "[LightGBM] [Debug] Trained a tree with leaves = 674 and max_depth = 10\n",
      "[LightGBM] [Warning] No further splits with positive gain, best gain: -inf\n",
      "[LightGBM] [Debug] Trained a tree with leaves = 553 and max_depth = 10\n",
      "[LightGBM] [Warning] No further splits with positive gain, best gain: -inf\n",
      "[LightGBM] [Debug] Trained a tree with leaves = 665 and max_depth = 10\n",
      "[LightGBM] [Warning] No further splits with positive gain, best gain: -inf\n",
      "[LightGBM] [Debug] Trained a tree with leaves = 470 and max_depth = 10\n",
      "[LightGBM] [Warning] No further splits with positive gain, best gain: -inf\n",
      "[LightGBM] [Debug] Trained a tree with leaves = 677 and max_depth = 10\n",
      "[LightGBM] [Debug] Trained a tree with leaves = 800 and max_depth = 10\n",
      "[LightGBM] [Debug] Trained a tree with leaves = 800 and max_depth = 10\n",
      "[LightGBM] [Warning] No further splits with positive gain, best gain: -inf\n",
      "[LightGBM] [Debug] Trained a tree with leaves = 510 and max_depth = 10\n",
      "[LightGBM] [Debug] Trained a tree with leaves = 800 and max_depth = 10\n",
      "[LightGBM] [Warning] No further splits with positive gain, best gain: -inf\n",
      "[LightGBM] [Debug] Trained a tree with leaves = 522 and max_depth = 10\n",
      "[LightGBM] [Warning] No further splits with positive gain, best gain: -inf\n",
      "[LightGBM] [Debug] Trained a tree with leaves = 698 and max_depth = 10\n",
      "[LightGBM] [Debug] Trained a tree with leaves = 800 and max_depth = 10\n",
      "[LightGBM] [Warning] No further splits with positive gain, best gain: -inf\n",
      "[LightGBM] [Debug] Trained a tree with leaves = 710 and max_depth = 10\n",
      "[LightGBM] [Debug] Trained a tree with leaves = 800 and max_depth = 10\n",
      "[LightGBM] [Debug] Trained a tree with leaves = 800 and max_depth = 10\n",
      "[LightGBM] [Warning] No further splits with positive gain, best gain: -inf\n",
      "[LightGBM] [Debug] Trained a tree with leaves = 560 and max_depth = 10\n",
      "[LightGBM] [Warning] No further splits with positive gain, best gain: -inf\n",
      "[LightGBM] [Debug] Trained a tree with leaves = 502 and max_depth = 10\n",
      "[LightGBM] [Warning] No further splits with positive gain, best gain: -inf\n",
      "[LightGBM] [Debug] Trained a tree with leaves = 749 and max_depth = 10\n",
      "[LightGBM] [Warning] No further splits with positive gain, best gain: -inf\n",
      "[LightGBM] [Debug] Trained a tree with leaves = 640 and max_depth = 10\n",
      "[LightGBM] [Warning] No further splits with positive gain, best gain: -inf\n",
      "[LightGBM] [Debug] Trained a tree with leaves = 752 and max_depth = 10\n",
      "[LightGBM] [Warning] No further splits with positive gain, best gain: -inf\n",
      "[LightGBM] [Debug] Trained a tree with leaves = 693 and max_depth = 10\n",
      "[LightGBM] [Warning] No further splits with positive gain, best gain: -inf\n",
      "[LightGBM] [Debug] Trained a tree with leaves = 633 and max_depth = 10\n",
      "[LightGBM] [Warning] No further splits with positive gain, best gain: -inf\n",
      "[LightGBM] [Debug] Trained a tree with leaves = 668 and max_depth = 10\n",
      "[LightGBM] [Warning] No further splits with positive gain, best gain: -inf\n",
      "[LightGBM] [Debug] Trained a tree with leaves = 657 and max_depth = 10\n",
      "[LightGBM] [Debug] Trained a tree with leaves = 800 and max_depth = 10\n",
      "[LightGBM] [Warning] No further splits with positive gain, best gain: -inf\n",
      "[LightGBM] [Debug] Trained a tree with leaves = 625 and max_depth = 10\n",
      "[LightGBM] [Warning] No further splits with positive gain, best gain: -inf\n",
      "[LightGBM] [Debug] Trained a tree with leaves = 733 and max_depth = 10\n",
      "[LightGBM] [Warning] No further splits with positive gain, best gain: -inf\n",
      "[LightGBM] [Debug] Trained a tree with leaves = 704 and max_depth = 10\n",
      "[LightGBM] [Warning] No further splits with positive gain, best gain: -inf\n",
      "[LightGBM] [Debug] Trained a tree with leaves = 661 and max_depth = 10\n",
      "[LightGBM] [Debug] Trained a tree with leaves = 800 and max_depth = 10\n",
      "[LightGBM] [Warning] No further splits with positive gain, best gain: -inf\n",
      "[LightGBM] [Debug] Trained a tree with leaves = 557 and max_depth = 10\n",
      "[LightGBM] [Warning] No further splits with positive gain, best gain: -inf\n",
      "[LightGBM] [Debug] Trained a tree with leaves = 640 and max_depth = 10\n",
      "[LightGBM] [Warning] No further splits with positive gain, best gain: -inf\n",
      "[LightGBM] [Debug] Trained a tree with leaves = 740 and max_depth = 10\n",
      "X_train rmse:  0.7185571940027673\n",
      "X_val rmse:  1.0043582145161585\n",
      "                                               0     1\n",
      "0                                 is_active_item     8\n",
      "1                                 is_active_shop    23\n",
      "2                          mean_price_this_month   574\n",
      "3                   amount_items_sold_this_month   782\n",
      "4           amount_items_sold_in_shop_this_month  1853\n",
      "5                             lag_item_cnt_month  2356\n",
      "6                  mean_price_in_shop_this_month  3735\n",
      "7                                        item_id  4270\n",
      "8                               shop_cnt_6_month  4608\n",
      "9                               item_category_id  4671\n",
      "10                                       shop_id  4832\n",
      "11                                date_block_num  5707\n",
      "12  expanding_mean_target_group_item_category_id  6060\n",
      "13                              item_cnt_6_month  6845\n",
      "14           expanding_mean_target_group_item_id  7226\n",
      "15           expanding_mean_target_group_shop_id  7867\n",
      "16                                    item_price  9404\n",
      "CPU times: user 10min 5s, sys: 1min 25s, total: 11min 31s\n",
      "Wall time: 1min 41s\n"
     ]
    }
   ],
   "source": [
    "%%time\n",
    "\n",
    "y_train = X_train.item_cnt_month\n",
    "y_val = X_val.item_cnt_month\n",
    "\n",
    "X_train_fit = X_train.drop('item_cnt_month', axis =1)\n",
    "X_val_fit = X_val.drop('item_cnt_month', axis =1)\n",
    "\n",
    "\n",
    "model = LGBMRegressor(verbose=2,max_depth=10, num_leaves= 800)\n",
    "# model = LGBMRegressor(verbose=2, max_depth=20, bagging_fraction=0.5, feature_fraction=0.25, min_child_weight=100, num_leaves= 2000, min_data_in_leaf = 1000)\n",
    "\n",
    "model.fit(X_train_fit , y_train)\n",
    "print(\"X_train rmse: \",rmse(model.predict(X_train_fit), y_train))\n",
    "print(\"X_val rmse: \",rmse(model.predict(X_val_fit), y_val))\n",
    "f_importances = np.array([[X_train_fit.columns[i], model.feature_importances_[i]] for i in range(len(X_train_fit.columns))])\n",
    "f_importances_sorted = pd.DataFrame(f_importances[(f_importances[:, 1].astype(float)).argsort()])\n",
    "print(f_importances_sorted)"
   ]
  },
  {
   "cell_type": "code",
   "execution_count": null,
   "id": "communist-logan",
   "metadata": {},
   "outputs": [],
   "source": [
    "X_train rmse:  0.7185571940027673\n",
    "X_val rmse:  1.0043582145161585"
   ]
  },
  {
   "cell_type": "code",
   "execution_count": 17,
   "id": "foreign-quantum",
   "metadata": {},
   "outputs": [
    {
     "name": "stdout",
     "output_type": "stream",
     "text": [
      "LGBMRegressor(bagging_fraction=0.5, feature_fraction=0.25, learning_rate=0.08,\n",
      "              max_depth=20, min_child_weight=100, min_data_in_leaf=100000,\n",
      "              n_estimators=150, num_leaves=1500)\n",
      "[LightGBM] [Warning] feature_fraction is set=0.25, colsample_bytree=1.0 will be ignored. Current value: feature_fraction=0.25\n",
      "[LightGBM] [Warning] min_data_in_leaf is set=100000, min_child_samples=20 will be ignored. Current value: min_data_in_leaf=100000\n",
      "[LightGBM] [Warning] bagging_fraction is set=0.5, subsample=1.0 will be ignored. Current value: bagging_fraction=0.5\n",
      "X_train rmse:  0.9885564969235431\n",
      "X_val rmse:  1.0808070536547825\n",
      "                                               0     1\n",
      "0                                 is_active_shop    32\n",
      "1                               item_cnt_6_month   149\n",
      "2                                 is_active_item   204\n",
      "3           amount_items_sold_in_shop_this_month   227\n",
      "4                   amount_items_sold_this_month   260\n",
      "5                          mean_price_this_month   423\n",
      "6                               shop_cnt_6_month   466\n",
      "7            expanding_mean_target_group_item_id   498\n",
      "8   expanding_mean_target_group_item_category_id   517\n",
      "9                             lag_item_cnt_month   548\n",
      "10                                       item_id   580\n",
      "11                                    item_price   718\n",
      "12                              item_category_id   766\n",
      "13                                date_block_num  1077\n",
      "14                                       shop_id  1609\n",
      "15                 mean_price_in_shop_this_month  1784\n",
      "16           expanding_mean_target_group_shop_id  2008\n"
     ]
    }
   ],
   "source": [
    "lgbm = LGBMRegressor(max_depth=20, bagging_fraction=0.5, feature_fraction=0.25, min_child_weight=100, num_leaves= 1500, min_data_in_leaf = 100000)\n",
    "\n",
    "lgbm_fitted = get_model_results(lgbm, X_train_fit, X_val_fit,  y_train, y_val)"
   ]
  },
  {
   "cell_type": "code",
   "execution_count": null,
   "id": "informative-purpose",
   "metadata": {},
   "outputs": [],
   "source": [
    "X_train rmse:  0.9209343352644527\n",
    "X_val rmse:  1.0231240503686843"
   ]
  },
  {
   "cell_type": "code",
   "execution_count": null,
   "id": "interior-performance",
   "metadata": {},
   "outputs": [],
   "source": []
  },
  {
   "cell_type": "code",
   "execution_count": null,
   "id": "settled-questionnaire",
   "metadata": {},
   "outputs": [],
   "source": []
  },
  {
   "cell_type": "code",
   "execution_count": null,
   "id": "interracial-laugh",
   "metadata": {},
   "outputs": [],
   "source": []
  },
  {
   "cell_type": "code",
   "execution_count": null,
   "id": "ranking-missile",
   "metadata": {},
   "outputs": [],
   "source": []
  },
  {
   "cell_type": "markdown",
   "id": "burning-mother",
   "metadata": {},
   "source": [
    "\n"
   ]
  },
  {
   "cell_type": "markdown",
   "id": "combined-information",
   "metadata": {},
   "source": [
    "### Testing"
   ]
  },
  {
   "cell_type": "code",
   "execution_count": null,
   "id": "ideal-package",
   "metadata": {},
   "outputs": [],
   "source": [
    "X_tr_testing = X_train.append(X_val)\n",
    "y_tr_testing = y_train.append(y_val)\n",
    "X_test_testing = X_test"
   ]
  },
  {
   "cell_type": "code",
   "execution_count": 10,
   "id": "whole-extra",
   "metadata": {},
   "outputs": [],
   "source": [
    "fun_list = [get_all_expanding_mean, get_lag_count, get_shop_features, get_month_features, get_features_6_month]\n",
    "X_tr_testing, X_test_testing = get_features(X_tr_testing, X_test_testing, fun_list)"
   ]
  },
  {
   "cell_type": "code",
   "execution_count": 11,
   "id": "affiliated-speech",
   "metadata": {},
   "outputs": [
    {
     "name": "stderr",
     "output_type": "stream",
     "text": [
      "/home/maksim/anaconda3/lib/python3.8/site-packages/lightgbm/engine.py:151: UserWarning: Found `num_iterations` in params. Will use it instead of argument\n",
      "  warnings.warn(\"Found `{}` in params. Will use it instead of argument\".format(alias))\n"
     ]
    },
    {
     "name": "stdout",
     "output_type": "stream",
     "text": [
      "[LightGBM] [Warning] feature_fraction is set=0.25, colsample_bytree=1.0 will be ignored. Current value: feature_fraction=0.25\n",
      "[LightGBM] [Warning] bagging_fraction is set=0.5, subsample=1.0 will be ignored. Current value: bagging_fraction=0.5\n"
     ]
    },
    {
     "data": {
      "text/plain": [
       "LGBMRegressor(bagging_fraction=0.5, feature_fraction=0.25, learning_rate=0.01,\n",
       "              max_depth=20, min_child_weight=100, num_iterations=120,\n",
       "              num_leaves=1500)"
      ]
     },
     "execution_count": 11,
     "metadata": {},
     "output_type": "execute_result"
    }
   ],
   "source": [
    "lgbm = LGBMRegressor(max_depth=20, bagging_fraction=0.5, feature_fraction=0.25, min_child_weight=100, num_leaves= 1500, \n",
    "                     learning_rate=0.06 / 6,  num_iterations=20 * 6)\n",
    "lgbm.fit(X_tr_testing.drop('item_cnt_month', axis = 1), y_tr_testing)"
   ]
  },
  {
   "cell_type": "code",
   "execution_count": 14,
   "id": "ignored-february",
   "metadata": {},
   "outputs": [],
   "source": [
    "prediction = lgbm.predict(X_test_testing.drop('item_cnt_month', axis = 1))"
   ]
  },
  {
   "cell_type": "code",
   "execution_count": 15,
   "id": "complimentary-packet",
   "metadata": {},
   "outputs": [
    {
     "data": {
      "text/plain": [
       "array([0.49588703, 0.16132267, 0.51289753, ..., 0.14490491, 0.12977558,\n",
       "       0.12848021])"
      ]
     },
     "execution_count": 15,
     "metadata": {},
     "output_type": "execute_result"
    }
   ],
   "source": [
    "prediction"
   ]
  },
  {
   "cell_type": "code",
   "execution_count": 16,
   "id": "driven-working",
   "metadata": {},
   "outputs": [],
   "source": [
    "save_for_submission(prediction, 'lgb_subm.csv')"
   ]
  },
  {
   "cell_type": "code",
   "execution_count": null,
   "id": "alien-algorithm",
   "metadata": {},
   "outputs": [],
   "source": []
  },
  {
   "cell_type": "code",
   "execution_count": null,
   "id": "narrative-walker",
   "metadata": {},
   "outputs": [],
   "source": []
  },
  {
   "cell_type": "code",
   "execution_count": null,
   "id": "still-conversion",
   "metadata": {},
   "outputs": [],
   "source": []
  },
  {
   "cell_type": "code",
   "execution_count": null,
   "id": "bacterial-cooling",
   "metadata": {},
   "outputs": [],
   "source": []
  },
  {
   "cell_type": "code",
   "execution_count": 21,
   "id": "greek-showcase",
   "metadata": {},
   "outputs": [],
   "source": [
    "save_for_submission(model.predict(X_test.drop('item_cnt_month',axis=1)), 'lgb_subm.csv')"
   ]
  },
  {
   "cell_type": "code",
   "execution_count": 22,
   "id": "right-holiday",
   "metadata": {},
   "outputs": [
    {
     "data": {
      "text/html": [
       "<div>\n",
       "<style scoped>\n",
       "    .dataframe tbody tr th:only-of-type {\n",
       "        vertical-align: middle;\n",
       "    }\n",
       "\n",
       "    .dataframe tbody tr th {\n",
       "        vertical-align: top;\n",
       "    }\n",
       "\n",
       "    .dataframe thead th {\n",
       "        text-align: right;\n",
       "    }\n",
       "</style>\n",
       "<table border=\"1\" class=\"dataframe\">\n",
       "  <thead>\n",
       "    <tr style=\"text-align: right;\">\n",
       "      <th></th>\n",
       "      <th>shop_id</th>\n",
       "      <th>item_id</th>\n",
       "      <th>date_block_num</th>\n",
       "      <th>item_price</th>\n",
       "      <th>item_category_id</th>\n",
       "      <th>mean_target_group_shop_id</th>\n",
       "      <th>mean_target_group_category_id</th>\n",
       "      <th>expanding_mean_target_group_item_id</th>\n",
       "    </tr>\n",
       "  </thead>\n",
       "  <tbody>\n",
       "    <tr>\n",
       "      <th>0</th>\n",
       "      <td>5</td>\n",
       "      <td>5037</td>\n",
       "      <td>34</td>\n",
       "      <td>1499.000000</td>\n",
       "      <td>19</td>\n",
       "      <td>0.224299</td>\n",
       "      <td>0.175795</td>\n",
       "      <td>2.062706</td>\n",
       "    </tr>\n",
       "    <tr>\n",
       "      <th>1</th>\n",
       "      <td>5</td>\n",
       "      <td>5320</td>\n",
       "      <td>34</td>\n",
       "      <td>998.642536</td>\n",
       "      <td>55</td>\n",
       "      <td>0.224299</td>\n",
       "      <td>0.175795</td>\n",
       "      <td>0.000000</td>\n",
       "    </tr>\n",
       "    <tr>\n",
       "      <th>2</th>\n",
       "      <td>5</td>\n",
       "      <td>5233</td>\n",
       "      <td>34</td>\n",
       "      <td>1199.000000</td>\n",
       "      <td>19</td>\n",
       "      <td>0.224299</td>\n",
       "      <td>0.175795</td>\n",
       "      <td>1.781609</td>\n",
       "    </tr>\n",
       "    <tr>\n",
       "      <th>3</th>\n",
       "      <td>5</td>\n",
       "      <td>5232</td>\n",
       "      <td>34</td>\n",
       "      <td>1190.433333</td>\n",
       "      <td>23</td>\n",
       "      <td>0.224299</td>\n",
       "      <td>0.175795</td>\n",
       "      <td>1.345238</td>\n",
       "    </tr>\n",
       "    <tr>\n",
       "      <th>4</th>\n",
       "      <td>5</td>\n",
       "      <td>5268</td>\n",
       "      <td>34</td>\n",
       "      <td>998.642536</td>\n",
       "      <td>20</td>\n",
       "      <td>0.224299</td>\n",
       "      <td>0.175795</td>\n",
       "      <td>0.000000</td>\n",
       "    </tr>\n",
       "    <tr>\n",
       "      <th>...</th>\n",
       "      <td>...</td>\n",
       "      <td>...</td>\n",
       "      <td>...</td>\n",
       "      <td>...</td>\n",
       "      <td>...</td>\n",
       "      <td>...</td>\n",
       "      <td>...</td>\n",
       "      <td>...</td>\n",
       "    </tr>\n",
       "    <tr>\n",
       "      <th>214195</th>\n",
       "      <td>45</td>\n",
       "      <td>18454</td>\n",
       "      <td>34</td>\n",
       "      <td>99.000000</td>\n",
       "      <td>55</td>\n",
       "      <td>0.310443</td>\n",
       "      <td>0.175795</td>\n",
       "      <td>1.134361</td>\n",
       "    </tr>\n",
       "    <tr>\n",
       "      <th>214196</th>\n",
       "      <td>45</td>\n",
       "      <td>16188</td>\n",
       "      <td>34</td>\n",
       "      <td>1359.000000</td>\n",
       "      <td>64</td>\n",
       "      <td>0.310443</td>\n",
       "      <td>0.175795</td>\n",
       "      <td>0.071429</td>\n",
       "    </tr>\n",
       "    <tr>\n",
       "      <th>214197</th>\n",
       "      <td>45</td>\n",
       "      <td>15757</td>\n",
       "      <td>34</td>\n",
       "      <td>229.000000</td>\n",
       "      <td>55</td>\n",
       "      <td>0.310443</td>\n",
       "      <td>0.175795</td>\n",
       "      <td>0.237508</td>\n",
       "    </tr>\n",
       "    <tr>\n",
       "      <th>214198</th>\n",
       "      <td>45</td>\n",
       "      <td>19648</td>\n",
       "      <td>34</td>\n",
       "      <td>89.100000</td>\n",
       "      <td>40</td>\n",
       "      <td>0.310443</td>\n",
       "      <td>0.175795</td>\n",
       "      <td>0.118943</td>\n",
       "    </tr>\n",
       "    <tr>\n",
       "      <th>214199</th>\n",
       "      <td>45</td>\n",
       "      <td>969</td>\n",
       "      <td>34</td>\n",
       "      <td>198.000000</td>\n",
       "      <td>37</td>\n",
       "      <td>0.310443</td>\n",
       "      <td>0.175795</td>\n",
       "      <td>0.398148</td>\n",
       "    </tr>\n",
       "  </tbody>\n",
       "</table>\n",
       "<p>214200 rows × 8 columns</p>\n",
       "</div>"
      ],
      "text/plain": [
       "        shop_id  item_id  date_block_num   item_price  item_category_id  \\\n",
       "0             5     5037              34  1499.000000                19   \n",
       "1             5     5320              34   998.642536                55   \n",
       "2             5     5233              34  1199.000000                19   \n",
       "3             5     5232              34  1190.433333                23   \n",
       "4             5     5268              34   998.642536                20   \n",
       "...         ...      ...             ...          ...               ...   \n",
       "214195       45    18454              34    99.000000                55   \n",
       "214196       45    16188              34  1359.000000                64   \n",
       "214197       45    15757              34   229.000000                55   \n",
       "214198       45    19648              34    89.100000                40   \n",
       "214199       45      969              34   198.000000                37   \n",
       "\n",
       "        mean_target_group_shop_id  mean_target_group_category_id  \\\n",
       "0                        0.224299                       0.175795   \n",
       "1                        0.224299                       0.175795   \n",
       "2                        0.224299                       0.175795   \n",
       "3                        0.224299                       0.175795   \n",
       "4                        0.224299                       0.175795   \n",
       "...                           ...                            ...   \n",
       "214195                   0.310443                       0.175795   \n",
       "214196                   0.310443                       0.175795   \n",
       "214197                   0.310443                       0.175795   \n",
       "214198                   0.310443                       0.175795   \n",
       "214199                   0.310443                       0.175795   \n",
       "\n",
       "        expanding_mean_target_group_item_id  \n",
       "0                                  2.062706  \n",
       "1                                  0.000000  \n",
       "2                                  1.781609  \n",
       "3                                  1.345238  \n",
       "4                                  0.000000  \n",
       "...                                     ...  \n",
       "214195                             1.134361  \n",
       "214196                             0.071429  \n",
       "214197                             0.237508  \n",
       "214198                             0.118943  \n",
       "214199                             0.398148  \n",
       "\n",
       "[214200 rows x 8 columns]"
      ]
     },
     "execution_count": 22,
     "metadata": {},
     "output_type": "execute_result"
    }
   ],
   "source": [
    "X_test.drop('item_cnt_month',axis=1)"
   ]
  },
  {
   "cell_type": "code",
   "execution_count": null,
   "id": "sustainable-governor",
   "metadata": {},
   "outputs": [],
   "source": []
  },
  {
   "cell_type": "code",
   "execution_count": null,
   "id": "electric-particular",
   "metadata": {},
   "outputs": [],
   "source": []
  },
  {
   "cell_type": "code",
   "execution_count": null,
   "id": "protective-character",
   "metadata": {},
   "outputs": [],
   "source": []
  },
  {
   "cell_type": "code",
   "execution_count": null,
   "id": "designed-store",
   "metadata": {},
   "outputs": [],
   "source": []
  },
  {
   "cell_type": "code",
   "execution_count": 16,
   "id": "worth-demographic",
   "metadata": {},
   "outputs": [],
   "source": []
  },
  {
   "cell_type": "code",
   "execution_count": 17,
   "id": "capable-portal",
   "metadata": {},
   "outputs": [],
   "source": [
    "data_per_month = df.groupby('date_block_num')[['item_id', 'item_price']].agg({\"item_id\":np.size, \"item_price\": np.mean }).reset_index()\n",
    "data_per_month.columns = ['date_block_num', 'amount_items_sold_this_month', 'mean_price_this_month']\n",
    "df = pd.merge(df,data_per_month, how='left', on='date_block_num')"
   ]
  },
  {
   "cell_type": "code",
   "execution_count": 18,
   "id": "fallen-brighton",
   "metadata": {},
   "outputs": [],
   "source": [
    "lag_count = df[df.date_block_num == 0].item_cnt_month\n",
    "for i in range(1, 35):\n",
    "    lag_count = lag_count.append(pd.merge(df[df.date_block_num == i], df[df.date_block_num == i-1],\n",
    "                                 how='left', on=['shop_id', 'item_id']).item_cnt_month_y.fillna(0))\n",
    "df['lag_item_cnt_month'] =  lag_count.values"
   ]
  },
  {
   "cell_type": "code",
   "execution_count": 19,
   "id": "spread-transformation",
   "metadata": {},
   "outputs": [],
   "source": [
    "actual_items = df[df.date_block_num.isin(range(28,34))].groupby(['item_id'])['item_cnt_month'].agg('sum').rename('item_cnt_6_month')\n",
    "df = pd.merge(df, actual_items, how='left', on='item_id')\n",
    "df['item_cnt_6_month'] = df['item_cnt_6_month'].fillna(0)"
   ]
  },
  {
   "cell_type": "code",
   "execution_count": 20,
   "id": "collectible-pakistan",
   "metadata": {},
   "outputs": [],
   "source": [
    "actual_shops = df[df.date_block_num.isin(range(28,34))].groupby(['shop_id'])['item_cnt_month'].agg('sum').rename('shop_cnt_6_month')\n",
    "df = pd.merge(df, actual_shops, how='left', on='shop_id')\n",
    "df['shop_cnt_6_month'] = df['shop_cnt_6_month'].fillna(0)"
   ]
  },
  {
   "cell_type": "code",
   "execution_count": 21,
   "id": "logical-burst",
   "metadata": {},
   "outputs": [],
   "source": [
    "for column in ['item_cnt_6_month', 'item_price']:\n",
    "    UPPER, LOWER = np.percentile(df[column], [1,99])\n",
    "    df[column] = np.clip(df[column],UPPER, LOWER)"
   ]
  },
  {
   "cell_type": "code",
   "execution_count": null,
   "id": "judicial-direction",
   "metadata": {},
   "outputs": [],
   "source": []
  },
  {
   "cell_type": "code",
   "execution_count": null,
   "id": "occupied-telescope",
   "metadata": {},
   "outputs": [],
   "source": []
  },
  {
   "cell_type": "code",
   "execution_count": null,
   "id": "hidden-determination",
   "metadata": {},
   "outputs": [],
   "source": []
  },
  {
   "cell_type": "code",
   "execution_count": null,
   "id": "random-greene",
   "metadata": {},
   "outputs": [],
   "source": []
  },
  {
   "cell_type": "code",
   "execution_count": 22,
   "id": "jewish-doctrine",
   "metadata": {},
   "outputs": [
    {
     "data": {
      "image/png": "[encoded data removed]",
      "text/plain": [
       "<Figure size 1440x1440 with 16 Axes>"
      ]
     },
     "metadata": {
      "needs_background": "light"
     },
     "output_type": "display_data"
    }
   ],
   "source": [
    "df.hist(figsize=(20,20))\n",
    "plt.show()"
   ]
  },
  {
   "cell_type": "code",
   "execution_count": 24,
   "id": "hairy-novelty",
   "metadata": {},
   "outputs": [],
   "source": [
    "y = df.dropna(subset=['item_cnt_month']).item_cnt_month\n",
    "test_ID = df.ID.dropna()\n",
    "df.drop(['ID', 'item_cnt_month'], axis = 1, inplace=True)"
   ]
  },
  {
   "cell_type": "code",
   "execution_count": 25,
   "id": "abroad-procedure",
   "metadata": {},
   "outputs": [],
   "source": [
    "df.to_pickle(\"/home/maksim/ml/Predict future sales/Pickle_files/how_to_win_2.pkl\")\n",
    "y.to_pickle(\"/home/maksim/ml/Predict future sales/Pickle_files/target.pkl\")\n",
    "test_ID.to_pickle(\"/home/maksim/ml/Predict future sales/Pickle_files/test_ID.pkl\")"
   ]
  },
  {
   "cell_type": "markdown",
   "id": "verbal-retention",
   "metadata": {},
   "source": [
    "### Test / Train split"
   ]
  },
  {
   "cell_type": "code",
   "execution_count": 2,
   "id": "pleasant-cathedral",
   "metadata": {},
   "outputs": [],
   "source": [
    "import pandas as pd\n",
    "import numpy as np\n",
    "\n",
    "df = pd.read_pickle(\"/home/maksim/ml/Predict future sales/Pickle_files/how_to_win_2.pkl\")\n",
    "y = pd.read_pickle(\"/home/maksim/ml/Predict future sales/Pickle_files/target.pkl\")"
   ]
  },
  {
   "cell_type": "code",
   "execution_count": 3,
   "id": "center-manitoba",
   "metadata": {},
   "outputs": [],
   "source": [
    "X_train = df[df['date_block_num'] < 33]\n",
    "X_valid = df[df['date_block_num'] == 33]\n",
    "X_test = df[df['date_block_num'] == 34]\n",
    "\n",
    "y_train = y[df['date_block_num'] < 33]\n",
    "y_valid = y[df['date_block_num'] == 33]"
   ]
  },
  {
   "cell_type": "code",
   "execution_count": 4,
   "id": "unlikely-forge",
   "metadata": {},
   "outputs": [
    {
     "data": {
      "text/html": [
       "<div>\n",
       "<style scoped>\n",
       "    .dataframe tbody tr th:only-of-type {\n",
       "        vertical-align: middle;\n",
       "    }\n",
       "\n",
       "    .dataframe tbody tr th {\n",
       "        vertical-align: top;\n",
       "    }\n",
       "\n",
       "    .dataframe thead th {\n",
       "        text-align: right;\n",
       "    }\n",
       "</style>\n",
       "<table border=\"1\" class=\"dataframe\">\n",
       "  <thead>\n",
       "    <tr style=\"text-align: right;\">\n",
       "      <th></th>\n",
       "      <th>shop_id</th>\n",
       "      <th>item_id</th>\n",
       "      <th>date_block_num</th>\n",
       "      <th>item_price</th>\n",
       "      <th>item_category_id</th>\n",
       "      <th>amount_items_sold_in_shop_this_month</th>\n",
       "      <th>mean_price_in_shop_this_month</th>\n",
       "      <th>amount_items_sold_this_month</th>\n",
       "      <th>mean_price_this_month</th>\n",
       "      <th>lag_item_cnt_month</th>\n",
       "      <th>item_cnt_6_month</th>\n",
       "      <th>shop_cnt_6_month</th>\n",
       "    </tr>\n",
       "  </thead>\n",
       "  <tbody>\n",
       "    <tr>\n",
       "      <th>0</th>\n",
       "      <td>59</td>\n",
       "      <td>22154</td>\n",
       "      <td>0</td>\n",
       "      <td>999.0</td>\n",
       "      <td>37</td>\n",
       "      <td>8115</td>\n",
       "      <td>569.368091</td>\n",
       "      <td>365175</td>\n",
       "      <td>567.550533</td>\n",
       "      <td>1.0</td>\n",
       "      <td>23.0</td>\n",
       "      <td>5555.0</td>\n",
       "    </tr>\n",
       "    <tr>\n",
       "      <th>1</th>\n",
       "      <td>25</td>\n",
       "      <td>22154</td>\n",
       "      <td>0</td>\n",
       "      <td>999.0</td>\n",
       "      <td>37</td>\n",
       "      <td>8115</td>\n",
       "      <td>573.188695</td>\n",
       "      <td>365175</td>\n",
       "      <td>567.550533</td>\n",
       "      <td>5.0</td>\n",
       "      <td>23.0</td>\n",
       "      <td>27450.0</td>\n",
       "    </tr>\n",
       "    <tr>\n",
       "      <th>2</th>\n",
       "      <td>24</td>\n",
       "      <td>22154</td>\n",
       "      <td>0</td>\n",
       "      <td>999.0</td>\n",
       "      <td>37</td>\n",
       "      <td>8115</td>\n",
       "      <td>569.282982</td>\n",
       "      <td>365175</td>\n",
       "      <td>567.550533</td>\n",
       "      <td>1.0</td>\n",
       "      <td>23.0</td>\n",
       "      <td>6709.0</td>\n",
       "    </tr>\n",
       "    <tr>\n",
       "      <th>3</th>\n",
       "      <td>23</td>\n",
       "      <td>22154</td>\n",
       "      <td>0</td>\n",
       "      <td>999.0</td>\n",
       "      <td>37</td>\n",
       "      <td>8115</td>\n",
       "      <td>569.595698</td>\n",
       "      <td>365175</td>\n",
       "      <td>567.550533</td>\n",
       "      <td>0.0</td>\n",
       "      <td>23.0</td>\n",
       "      <td>0.0</td>\n",
       "    </tr>\n",
       "    <tr>\n",
       "      <th>4</th>\n",
       "      <td>19</td>\n",
       "      <td>22154</td>\n",
       "      <td>0</td>\n",
       "      <td>999.0</td>\n",
       "      <td>37</td>\n",
       "      <td>8115</td>\n",
       "      <td>571.047572</td>\n",
       "      <td>365175</td>\n",
       "      <td>567.550533</td>\n",
       "      <td>0.0</td>\n",
       "      <td>23.0</td>\n",
       "      <td>8095.0</td>\n",
       "    </tr>\n",
       "  </tbody>\n",
       "</table>\n",
       "</div>"
      ],
      "text/plain": [
       "   shop_id  item_id  date_block_num  item_price  item_category_id  \\\n",
       "0       59    22154               0       999.0                37   \n",
       "1       25    22154               0       999.0                37   \n",
       "2       24    22154               0       999.0                37   \n",
       "3       23    22154               0       999.0                37   \n",
       "4       19    22154               0       999.0                37   \n",
       "\n",
       "   amount_items_sold_in_shop_this_month  mean_price_in_shop_this_month  \\\n",
       "0                                  8115                     569.368091   \n",
       "1                                  8115                     573.188695   \n",
       "2                                  8115                     569.282982   \n",
       "3                                  8115                     569.595698   \n",
       "4                                  8115                     571.047572   \n",
       "\n",
       "   amount_items_sold_this_month  mean_price_this_month  lag_item_cnt_month  \\\n",
       "0                        365175             567.550533                 1.0   \n",
       "1                        365175             567.550533                 5.0   \n",
       "2                        365175             567.550533                 1.0   \n",
       "3                        365175             567.550533                 0.0   \n",
       "4                        365175             567.550533                 0.0   \n",
       "\n",
       "   item_cnt_6_month  shop_cnt_6_month  \n",
       "0              23.0            5555.0  \n",
       "1              23.0           27450.0  \n",
       "2              23.0            6709.0  \n",
       "3              23.0               0.0  \n",
       "4              23.0            8095.0  "
      ]
     },
     "execution_count": 4,
     "metadata": {},
     "output_type": "execute_result"
    }
   ],
   "source": [
    "X_train.head()"
   ]
  },
  {
   "cell_type": "code",
   "execution_count": 5,
   "id": "aerial-surfing",
   "metadata": {},
   "outputs": [
    {
     "name": "stdout",
     "output_type": "stream",
     "text": [
      "(10675678, 12) (10675678,)\n",
      "(238172, 12) (238172,)\n"
     ]
    }
   ],
   "source": [
    "print(X_train.shape, y_train.shape)\n",
    "print(X_valid.shape, y_valid.shape)"
   ]
  },
  {
   "cell_type": "markdown",
   "id": "shared-venue",
   "metadata": {},
   "source": [
    "# Modelling"
   ]
  },
  {
   "cell_type": "code",
   "execution_count": 50,
   "id": "closing-resistance",
   "metadata": {},
   "outputs": [
    {
     "name": "stdout",
     "output_type": "stream",
     "text": [
      "baseline rmse is 1.6034\n"
     ]
    }
   ],
   "source": [
    "def rmse(X, y):\n",
    "    return np.sqrt(np.mean((X - y) ** 2))\n",
    "\n",
    "\n",
    "print(\"baseline rmse is\", np.round(rmse(X_valid.lag_item_cnt_month, y_valid), 4))"
   ]
  },
  {
   "cell_type": "markdown",
   "id": "successful-faith",
   "metadata": {},
   "source": [
    "### Random Forest"
   ]
  },
  {
   "cell_type": "code",
   "execution_count": 55,
   "id": "following-scientist",
   "metadata": {},
   "outputs": [
    {
     "name": "stdout",
     "output_type": "stream",
     "text": [
      "rmse train is 1.0098\n",
      "rmse valid is 0.9772\n",
      "CPU times: user 6h 11min 3s, sys: 1min 28s, total: 6h 12min 31s\n",
      "Wall time: 48min 47s\n"
     ]
    },
    {
     "data": {
      "text/html": [
       "<div>\n",
       "<style scoped>\n",
       "    .dataframe tbody tr th:only-of-type {\n",
       "        vertical-align: middle;\n",
       "    }\n",
       "\n",
       "    .dataframe tbody tr th {\n",
       "        vertical-align: top;\n",
       "    }\n",
       "\n",
       "    .dataframe thead th {\n",
       "        text-align: right;\n",
       "    }\n",
       "</style>\n",
       "<table border=\"1\" class=\"dataframe\">\n",
       "  <thead>\n",
       "    <tr style=\"text-align: right;\">\n",
       "      <th></th>\n",
       "      <th>0</th>\n",
       "      <th>1</th>\n",
       "    </tr>\n",
       "  </thead>\n",
       "  <tbody>\n",
       "    <tr>\n",
       "      <th>0</th>\n",
       "      <td>lag_item_cnt_month</td>\n",
       "      <td>0.00027593890084772664</td>\n",
       "    </tr>\n",
       "    <tr>\n",
       "      <th>1</th>\n",
       "      <td>mean_price_this_month</td>\n",
       "      <td>0.0066859400015017775</td>\n",
       "    </tr>\n",
       "    <tr>\n",
       "      <th>2</th>\n",
       "      <td>mean_price_in_shop_this_month</td>\n",
       "      <td>0.010362434896384732</td>\n",
       "    </tr>\n",
       "    <tr>\n",
       "      <th>3</th>\n",
       "      <td>amount_items_sold_this_month</td>\n",
       "      <td>0.02634301109975673</td>\n",
       "    </tr>\n",
       "    <tr>\n",
       "      <th>4</th>\n",
       "      <td>amount_items_sold_in_shop_this_month</td>\n",
       "      <td>0.026487220063808572</td>\n",
       "    </tr>\n",
       "    <tr>\n",
       "      <th>5</th>\n",
       "      <td>shop_id</td>\n",
       "      <td>0.03236269935463093</td>\n",
       "    </tr>\n",
       "    <tr>\n",
       "      <th>6</th>\n",
       "      <td>date_block_num</td>\n",
       "      <td>0.05159013185406536</td>\n",
       "    </tr>\n",
       "    <tr>\n",
       "      <th>7</th>\n",
       "      <td>item_id</td>\n",
       "      <td>0.06604932064688324</td>\n",
       "    </tr>\n",
       "    <tr>\n",
       "      <th>8</th>\n",
       "      <td>item_category_id</td>\n",
       "      <td>0.12726387920817184</td>\n",
       "    </tr>\n",
       "    <tr>\n",
       "      <th>9</th>\n",
       "      <td>shop_cnt_6_month</td>\n",
       "      <td>0.13154677340022866</td>\n",
       "    </tr>\n",
       "    <tr>\n",
       "      <th>10</th>\n",
       "      <td>item_price</td>\n",
       "      <td>0.13189950907631254</td>\n",
       "    </tr>\n",
       "    <tr>\n",
       "      <th>11</th>\n",
       "      <td>item_cnt_6_month</td>\n",
       "      <td>0.3891331414974079</td>\n",
       "    </tr>\n",
       "  </tbody>\n",
       "</table>\n",
       "</div>"
      ],
      "text/plain": [
       "                                       0                       1\n",
       "0                     lag_item_cnt_month  0.00027593890084772664\n",
       "1                  mean_price_this_month   0.0066859400015017775\n",
       "2          mean_price_in_shop_this_month    0.010362434896384732\n",
       "3           amount_items_sold_this_month     0.02634301109975673\n",
       "4   amount_items_sold_in_shop_this_month    0.026487220063808572\n",
       "5                                shop_id     0.03236269935463093\n",
       "6                         date_block_num     0.05159013185406536\n",
       "7                                item_id     0.06604932064688324\n",
       "8                       item_category_id     0.12726387920817184\n",
       "9                       shop_cnt_6_month     0.13154677340022866\n",
       "10                            item_price     0.13189950907631254\n",
       "11                      item_cnt_6_month      0.3891331414974079"
      ]
     },
     "execution_count": 55,
     "metadata": {},
     "output_type": "execute_result"
    }
   ],
   "source": [
    "%%time\n",
    "from sklearn.ensemble import RandomForestRegressor\n",
    "reg_rf = RandomForestRegressor(n_estimators = 300, n_jobs = -1, max_depth=10, \n",
    "                               max_features=0.8, min_samples_leaf=10, bootstrap=True)\n",
    "reg_rf.fit(X_train, y_train)\n",
    "print('rmse train is {}'.format(np.round(rmse(reg_rf.predict(X_train), y_train),4)))\n",
    "print('rmse valid is {}'.format(np.round(rmse(reg_rf.predict(X_valid), y_valid),4)))\n",
    "f_importances = np.array([[X_train.columns[i],reg_rf.feature_importances_[i]] for i in range(len(X_train.columns))])\n",
    "pd.DataFrame(f_importances[(f_importances[:, 1]).argsort()])"
   ]
  },
  {
   "cell_type": "code",
   "execution_count": 6,
   "id": "diagnostic-foundation",
   "metadata": {},
   "outputs": [
    {
     "data": {
      "text/plain": [
       "XGBRegressor(base_score=0.5, booster='gbtree', colsample_bylevel=1,\n",
       "             colsample_bynode=1, colsample_bytree=1, gamma=0, gpu_id=-1,\n",
       "             importance_type='gain', interaction_constraints='',\n",
       "             learning_rate=0.300000012, max_delta_step=0, max_depth=6,\n",
       "             min_child_weight=1, missing=nan, monotone_constraints='()',\n",
       "             n_estimators=100, n_jobs=8, num_parallel_tree=1, random_state=0,\n",
       "             reg_alpha=0, reg_lambda=1, scale_pos_weight=1, subsample=1,\n",
       "             tree_method='approx', validate_parameters=1, verbosity=None)"
      ]
     },
     "execution_count": 6,
     "metadata": {},
     "output_type": "execute_result"
    }
   ],
   "source": [
    "import xgboost as xgb\n",
    "\n",
    "model =  xgb.XGBRegressor()\n",
    "model.fit(X_train, y_train)"
   ]
  },
  {
   "cell_type": "code",
   "execution_count": null,
   "id": "republican-hello",
   "metadata": {},
   "outputs": [],
   "source": []
  },
  {
   "cell_type": "code",
   "execution_count": null,
   "id": "native-holly",
   "metadata": {},
   "outputs": [],
   "source": []
  },
  {
   "cell_type": "code",
   "execution_count": null,
   "id": "assured-yield",
   "metadata": {},
   "outputs": [],
   "source": []
  },
  {
   "cell_type": "code",
   "execution_count": null,
   "id": "leading-grove",
   "metadata": {},
   "outputs": [],
   "source": []
  },
  {
   "cell_type": "code",
   "execution_count": 11,
   "id": "bored-plaintiff",
   "metadata": {},
   "outputs": [],
   "source": []
  },
  {
   "cell_type": "code",
   "execution_count": null,
   "id": "hired-wound",
   "metadata": {},
   "outputs": [],
   "source": []
  },
  {
   "cell_type": "code",
   "execution_count": 14,
   "id": "southern-subcommittee",
   "metadata": {},
   "outputs": [],
   "source": [
    "save_for_submission(pred, \"XGB_pred.csv\")"
   ]
  },
  {
   "cell_type": "code",
   "execution_count": null,
   "id": "equivalent-dividend",
   "metadata": {},
   "outputs": [],
   "source": []
  },
  {
   "cell_type": "code",
   "execution_count": null,
   "id": "honest-religion",
   "metadata": {},
   "outputs": [],
   "source": []
  },
  {
   "cell_type": "markdown",
   "id": "intermediate-slide",
   "metadata": {},
   "source": [
    "### Gradient Boosting"
   ]
  },
  {
   "cell_type": "code",
   "execution_count": null,
   "id": "authentic-antique",
   "metadata": {},
   "outputs": [],
   "source": [
    "# from sklearn.ensemble import GradientBoostingRegressor\n",
    "\n",
    "# reg = GradientBoostingRegressor(max_depth = 10)\n",
    "# reg.fit(X_train, y_train)\n",
    "# rmse(reg.predict(X_train), y_train)"
   ]
  },
  {
   "cell_type": "code",
   "execution_count": null,
   "id": "synthetic-transmission",
   "metadata": {},
   "outputs": [],
   "source": []
  },
  {
   "cell_type": "code",
   "execution_count": 182,
   "id": "sound-container",
   "metadata": {},
   "outputs": [],
   "source": [
    "save_for_submission(X_test.item_mean_cnt.values, 'all_month_subm.csv')"
   ]
  },
  {
   "cell_type": "code",
   "execution_count": null,
   "id": "loving-command",
   "metadata": {},
   "outputs": [],
   "source": []
  },
  {
   "cell_type": "code",
   "execution_count": null,
   "id": "thick-implement",
   "metadata": {},
   "outputs": [],
   "source": []
  },
  {
   "cell_type": "code",
   "execution_count": null,
   "id": "curious-times",
   "metadata": {},
   "outputs": [],
   "source": []
  },
  {
   "cell_type": "code",
   "execution_count": null,
   "id": "active-noise",
   "metadata": {},
   "outputs": [],
   "source": []
  },
  {
   "cell_type": "code",
   "execution_count": null,
   "id": "private-brother",
   "metadata": {},
   "outputs": [],
   "source": []
  },
  {
   "cell_type": "code",
   "execution_count": null,
   "id": "suitable-store",
   "metadata": {},
   "outputs": [],
   "source": []
  },
  {
   "cell_type": "code",
   "execution_count": null,
   "id": "spiritual-template",
   "metadata": {},
   "outputs": [],
   "source": []
  },
  {
   "cell_type": "code",
   "execution_count": null,
   "id": "short-barrier",
   "metadata": {},
   "outputs": [],
   "source": []
  },
  {
   "cell_type": "code",
   "execution_count": null,
   "id": "conceptual-mileage",
   "metadata": {},
   "outputs": [],
   "source": []
  },
  {
   "cell_type": "code",
   "execution_count": null,
   "id": "global-birth",
   "metadata": {},
   "outputs": [],
   "source": []
  },
  {
   "cell_type": "code",
   "execution_count": null,
   "id": "loved-negotiation",
   "metadata": {},
   "outputs": [],
   "source": []
  },
  {
   "cell_type": "code",
   "execution_count": null,
   "id": "weekly-phoenix",
   "metadata": {},
   "outputs": [],
   "source": []
  },
  {
   "cell_type": "code",
   "execution_count": null,
   "id": "motivated-concert",
   "metadata": {},
   "outputs": [],
   "source": []
  },
  {
   "cell_type": "code",
   "execution_count": null,
   "id": "suited-alias",
   "metadata": {},
   "outputs": [],
   "source": []
  },
  {
   "cell_type": "code",
   "execution_count": null,
   "id": "champion-scott",
   "metadata": {},
   "outputs": [],
   "source": []
  }
 ],
 "metadata": {
  "kernelspec": {
   "display_name": "Python 3",
   "language": "python",
   "name": "python3"
  },
  "language_info": {
   "codemirror_mode": {
    "name": "ipython",
    "version": 3
   },
   "file_extension": ".py",
   "mimetype": "text/x-python",
   "name": "python",
   "nbconvert_exporter": "python",
   "pygments_lexer": "ipython3",
   "version": "3.8.5"
  }
 },
 "nbformat": 4,
 "nbformat_minor": 5
}
